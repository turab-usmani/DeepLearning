{
  "nbformat": 4,
  "nbformat_minor": 0,
  "metadata": {
    "colab": {
      "provenance": [],
      "gpuType": "T4"
    },
    "kernelspec": {
      "name": "python3",
      "display_name": "Python 3"
    },
    "language_info": {
      "name": "python"
    },
    "accelerator": "GPU",
    "widgets": {
      "application/vnd.jupyter.widget-state+json": {
        "75a269c2c2ec4ee2bae75c51695e8c58": {
          "model_module": "@jupyter-widgets/controls",
          "model_name": "HBoxModel",
          "model_module_version": "1.5.0",
          "state": {
            "_dom_classes": [],
            "_model_module": "@jupyter-widgets/controls",
            "_model_module_version": "1.5.0",
            "_model_name": "HBoxModel",
            "_view_count": null,
            "_view_module": "@jupyter-widgets/controls",
            "_view_module_version": "1.5.0",
            "_view_name": "HBoxView",
            "box_style": "",
            "children": [
              "IPY_MODEL_f342d1c5116e4a44820ad8220b65f24d",
              "IPY_MODEL_d1698b2ae3aa4a52a552c235b1f7f6ff",
              "IPY_MODEL_560234e8c40b4dd8b199cf37f7a09b20"
            ],
            "layout": "IPY_MODEL_90a2a904d5604656825b2947fa08d081"
          }
        },
        "f342d1c5116e4a44820ad8220b65f24d": {
          "model_module": "@jupyter-widgets/controls",
          "model_name": "HTMLModel",
          "model_module_version": "1.5.0",
          "state": {
            "_dom_classes": [],
            "_model_module": "@jupyter-widgets/controls",
            "_model_module_version": "1.5.0",
            "_model_name": "HTMLModel",
            "_view_count": null,
            "_view_module": "@jupyter-widgets/controls",
            "_view_module_version": "1.5.0",
            "_view_name": "HTMLView",
            "description": "",
            "description_tooltip": null,
            "layout": "IPY_MODEL_d0e6b1654f1e41d4ae99c0882bd50cf6",
            "placeholder": "​",
            "style": "IPY_MODEL_00aa477894a64596ab3781e0ac222f3c",
            "value": "Loading pipeline components...: 100%"
          }
        },
        "d1698b2ae3aa4a52a552c235b1f7f6ff": {
          "model_module": "@jupyter-widgets/controls",
          "model_name": "FloatProgressModel",
          "model_module_version": "1.5.0",
          "state": {
            "_dom_classes": [],
            "_model_module": "@jupyter-widgets/controls",
            "_model_module_version": "1.5.0",
            "_model_name": "FloatProgressModel",
            "_view_count": null,
            "_view_module": "@jupyter-widgets/controls",
            "_view_module_version": "1.5.0",
            "_view_name": "ProgressView",
            "bar_style": "success",
            "description": "",
            "description_tooltip": null,
            "layout": "IPY_MODEL_ea2123a2364b4184bba2f3c5b3cd823a",
            "max": 5,
            "min": 0,
            "orientation": "horizontal",
            "style": "IPY_MODEL_29b2503e45be4d64b97d8001f2e214b1",
            "value": 5
          }
        },
        "560234e8c40b4dd8b199cf37f7a09b20": {
          "model_module": "@jupyter-widgets/controls",
          "model_name": "HTMLModel",
          "model_module_version": "1.5.0",
          "state": {
            "_dom_classes": [],
            "_model_module": "@jupyter-widgets/controls",
            "_model_module_version": "1.5.0",
            "_model_name": "HTMLModel",
            "_view_count": null,
            "_view_module": "@jupyter-widgets/controls",
            "_view_module_version": "1.5.0",
            "_view_name": "HTMLView",
            "description": "",
            "description_tooltip": null,
            "layout": "IPY_MODEL_e28ed6ed5cb84a308fad0f73f98ce3b0",
            "placeholder": "​",
            "style": "IPY_MODEL_f008847bd82b4840b2653c5127a4721b",
            "value": " 5/5 [00:06&lt;00:00,  1.06s/it]"
          }
        },
        "90a2a904d5604656825b2947fa08d081": {
          "model_module": "@jupyter-widgets/base",
          "model_name": "LayoutModel",
          "model_module_version": "1.2.0",
          "state": {
            "_model_module": "@jupyter-widgets/base",
            "_model_module_version": "1.2.0",
            "_model_name": "LayoutModel",
            "_view_count": null,
            "_view_module": "@jupyter-widgets/base",
            "_view_module_version": "1.2.0",
            "_view_name": "LayoutView",
            "align_content": null,
            "align_items": null,
            "align_self": null,
            "border": null,
            "bottom": null,
            "display": null,
            "flex": null,
            "flex_flow": null,
            "grid_area": null,
            "grid_auto_columns": null,
            "grid_auto_flow": null,
            "grid_auto_rows": null,
            "grid_column": null,
            "grid_gap": null,
            "grid_row": null,
            "grid_template_areas": null,
            "grid_template_columns": null,
            "grid_template_rows": null,
            "height": null,
            "justify_content": null,
            "justify_items": null,
            "left": null,
            "margin": null,
            "max_height": null,
            "max_width": null,
            "min_height": null,
            "min_width": null,
            "object_fit": null,
            "object_position": null,
            "order": null,
            "overflow": null,
            "overflow_x": null,
            "overflow_y": null,
            "padding": null,
            "right": null,
            "top": null,
            "visibility": null,
            "width": null
          }
        },
        "d0e6b1654f1e41d4ae99c0882bd50cf6": {
          "model_module": "@jupyter-widgets/base",
          "model_name": "LayoutModel",
          "model_module_version": "1.2.0",
          "state": {
            "_model_module": "@jupyter-widgets/base",
            "_model_module_version": "1.2.0",
            "_model_name": "LayoutModel",
            "_view_count": null,
            "_view_module": "@jupyter-widgets/base",
            "_view_module_version": "1.2.0",
            "_view_name": "LayoutView",
            "align_content": null,
            "align_items": null,
            "align_self": null,
            "border": null,
            "bottom": null,
            "display": null,
            "flex": null,
            "flex_flow": null,
            "grid_area": null,
            "grid_auto_columns": null,
            "grid_auto_flow": null,
            "grid_auto_rows": null,
            "grid_column": null,
            "grid_gap": null,
            "grid_row": null,
            "grid_template_areas": null,
            "grid_template_columns": null,
            "grid_template_rows": null,
            "height": null,
            "justify_content": null,
            "justify_items": null,
            "left": null,
            "margin": null,
            "max_height": null,
            "max_width": null,
            "min_height": null,
            "min_width": null,
            "object_fit": null,
            "object_position": null,
            "order": null,
            "overflow": null,
            "overflow_x": null,
            "overflow_y": null,
            "padding": null,
            "right": null,
            "top": null,
            "visibility": null,
            "width": null
          }
        },
        "00aa477894a64596ab3781e0ac222f3c": {
          "model_module": "@jupyter-widgets/controls",
          "model_name": "DescriptionStyleModel",
          "model_module_version": "1.5.0",
          "state": {
            "_model_module": "@jupyter-widgets/controls",
            "_model_module_version": "1.5.0",
            "_model_name": "DescriptionStyleModel",
            "_view_count": null,
            "_view_module": "@jupyter-widgets/base",
            "_view_module_version": "1.2.0",
            "_view_name": "StyleView",
            "description_width": ""
          }
        },
        "ea2123a2364b4184bba2f3c5b3cd823a": {
          "model_module": "@jupyter-widgets/base",
          "model_name": "LayoutModel",
          "model_module_version": "1.2.0",
          "state": {
            "_model_module": "@jupyter-widgets/base",
            "_model_module_version": "1.2.0",
            "_model_name": "LayoutModel",
            "_view_count": null,
            "_view_module": "@jupyter-widgets/base",
            "_view_module_version": "1.2.0",
            "_view_name": "LayoutView",
            "align_content": null,
            "align_items": null,
            "align_self": null,
            "border": null,
            "bottom": null,
            "display": null,
            "flex": null,
            "flex_flow": null,
            "grid_area": null,
            "grid_auto_columns": null,
            "grid_auto_flow": null,
            "grid_auto_rows": null,
            "grid_column": null,
            "grid_gap": null,
            "grid_row": null,
            "grid_template_areas": null,
            "grid_template_columns": null,
            "grid_template_rows": null,
            "height": null,
            "justify_content": null,
            "justify_items": null,
            "left": null,
            "margin": null,
            "max_height": null,
            "max_width": null,
            "min_height": null,
            "min_width": null,
            "object_fit": null,
            "object_position": null,
            "order": null,
            "overflow": null,
            "overflow_x": null,
            "overflow_y": null,
            "padding": null,
            "right": null,
            "top": null,
            "visibility": null,
            "width": null
          }
        },
        "29b2503e45be4d64b97d8001f2e214b1": {
          "model_module": "@jupyter-widgets/controls",
          "model_name": "ProgressStyleModel",
          "model_module_version": "1.5.0",
          "state": {
            "_model_module": "@jupyter-widgets/controls",
            "_model_module_version": "1.5.0",
            "_model_name": "ProgressStyleModel",
            "_view_count": null,
            "_view_module": "@jupyter-widgets/base",
            "_view_module_version": "1.2.0",
            "_view_name": "StyleView",
            "bar_color": null,
            "description_width": ""
          }
        },
        "e28ed6ed5cb84a308fad0f73f98ce3b0": {
          "model_module": "@jupyter-widgets/base",
          "model_name": "LayoutModel",
          "model_module_version": "1.2.0",
          "state": {
            "_model_module": "@jupyter-widgets/base",
            "_model_module_version": "1.2.0",
            "_model_name": "LayoutModel",
            "_view_count": null,
            "_view_module": "@jupyter-widgets/base",
            "_view_module_version": "1.2.0",
            "_view_name": "LayoutView",
            "align_content": null,
            "align_items": null,
            "align_self": null,
            "border": null,
            "bottom": null,
            "display": null,
            "flex": null,
            "flex_flow": null,
            "grid_area": null,
            "grid_auto_columns": null,
            "grid_auto_flow": null,
            "grid_auto_rows": null,
            "grid_column": null,
            "grid_gap": null,
            "grid_row": null,
            "grid_template_areas": null,
            "grid_template_columns": null,
            "grid_template_rows": null,
            "height": null,
            "justify_content": null,
            "justify_items": null,
            "left": null,
            "margin": null,
            "max_height": null,
            "max_width": null,
            "min_height": null,
            "min_width": null,
            "object_fit": null,
            "object_position": null,
            "order": null,
            "overflow": null,
            "overflow_x": null,
            "overflow_y": null,
            "padding": null,
            "right": null,
            "top": null,
            "visibility": null,
            "width": null
          }
        },
        "f008847bd82b4840b2653c5127a4721b": {
          "model_module": "@jupyter-widgets/controls",
          "model_name": "DescriptionStyleModel",
          "model_module_version": "1.5.0",
          "state": {
            "_model_module": "@jupyter-widgets/controls",
            "_model_module_version": "1.5.0",
            "_model_name": "DescriptionStyleModel",
            "_view_count": null,
            "_view_module": "@jupyter-widgets/base",
            "_view_module_version": "1.2.0",
            "_view_name": "StyleView",
            "description_width": ""
          }
        },
        "1fbb77ce677a4805976c541036bd60e9": {
          "model_module": "@jupyter-widgets/controls",
          "model_name": "HBoxModel",
          "model_module_version": "1.5.0",
          "state": {
            "_dom_classes": [],
            "_model_module": "@jupyter-widgets/controls",
            "_model_module_version": "1.5.0",
            "_model_name": "HBoxModel",
            "_view_count": null,
            "_view_module": "@jupyter-widgets/controls",
            "_view_module_version": "1.5.0",
            "_view_name": "HBoxView",
            "box_style": "",
            "children": [
              "IPY_MODEL_db42b6174dd24715b3f82775d75885f6",
              "IPY_MODEL_7336988b513047df93b61ab164f1e43e",
              "IPY_MODEL_c53eccc198794c1b8ed66d439b871832"
            ],
            "layout": "IPY_MODEL_305c06b58a3641a28d124549a87771f5"
          }
        },
        "db42b6174dd24715b3f82775d75885f6": {
          "model_module": "@jupyter-widgets/controls",
          "model_name": "HTMLModel",
          "model_module_version": "1.5.0",
          "state": {
            "_dom_classes": [],
            "_model_module": "@jupyter-widgets/controls",
            "_model_module_version": "1.5.0",
            "_model_name": "HTMLModel",
            "_view_count": null,
            "_view_module": "@jupyter-widgets/controls",
            "_view_module_version": "1.5.0",
            "_view_name": "HTMLView",
            "description": "",
            "description_tooltip": null,
            "layout": "IPY_MODEL_2ee1a179fb7f47edabf9bbcbc3839040",
            "placeholder": "​",
            "style": "IPY_MODEL_18f7844f6e8d4a7caf6dc4c388f448b6",
            "value": "Loading pipeline components...: 100%"
          }
        },
        "7336988b513047df93b61ab164f1e43e": {
          "model_module": "@jupyter-widgets/controls",
          "model_name": "FloatProgressModel",
          "model_module_version": "1.5.0",
          "state": {
            "_dom_classes": [],
            "_model_module": "@jupyter-widgets/controls",
            "_model_module_version": "1.5.0",
            "_model_name": "FloatProgressModel",
            "_view_count": null,
            "_view_module": "@jupyter-widgets/controls",
            "_view_module_version": "1.5.0",
            "_view_name": "ProgressView",
            "bar_style": "success",
            "description": "",
            "description_tooltip": null,
            "layout": "IPY_MODEL_b69a2b1c2c9d45b993a997b02a6c4285",
            "max": 5,
            "min": 0,
            "orientation": "horizontal",
            "style": "IPY_MODEL_ce566a498ef44c3b85fa170e53335ed2",
            "value": 5
          }
        },
        "c53eccc198794c1b8ed66d439b871832": {
          "model_module": "@jupyter-widgets/controls",
          "model_name": "HTMLModel",
          "model_module_version": "1.5.0",
          "state": {
            "_dom_classes": [],
            "_model_module": "@jupyter-widgets/controls",
            "_model_module_version": "1.5.0",
            "_model_name": "HTMLModel",
            "_view_count": null,
            "_view_module": "@jupyter-widgets/controls",
            "_view_module_version": "1.5.0",
            "_view_name": "HTMLView",
            "description": "",
            "description_tooltip": null,
            "layout": "IPY_MODEL_d648c1c589b844c68f853441038ff08c",
            "placeholder": "​",
            "style": "IPY_MODEL_e746068e3df54ea8b2d247575b649ab9",
            "value": " 5/5 [00:00&lt;00:00,  7.33it/s]"
          }
        },
        "305c06b58a3641a28d124549a87771f5": {
          "model_module": "@jupyter-widgets/base",
          "model_name": "LayoutModel",
          "model_module_version": "1.2.0",
          "state": {
            "_model_module": "@jupyter-widgets/base",
            "_model_module_version": "1.2.0",
            "_model_name": "LayoutModel",
            "_view_count": null,
            "_view_module": "@jupyter-widgets/base",
            "_view_module_version": "1.2.0",
            "_view_name": "LayoutView",
            "align_content": null,
            "align_items": null,
            "align_self": null,
            "border": null,
            "bottom": null,
            "display": null,
            "flex": null,
            "flex_flow": null,
            "grid_area": null,
            "grid_auto_columns": null,
            "grid_auto_flow": null,
            "grid_auto_rows": null,
            "grid_column": null,
            "grid_gap": null,
            "grid_row": null,
            "grid_template_areas": null,
            "grid_template_columns": null,
            "grid_template_rows": null,
            "height": null,
            "justify_content": null,
            "justify_items": null,
            "left": null,
            "margin": null,
            "max_height": null,
            "max_width": null,
            "min_height": null,
            "min_width": null,
            "object_fit": null,
            "object_position": null,
            "order": null,
            "overflow": null,
            "overflow_x": null,
            "overflow_y": null,
            "padding": null,
            "right": null,
            "top": null,
            "visibility": null,
            "width": null
          }
        },
        "2ee1a179fb7f47edabf9bbcbc3839040": {
          "model_module": "@jupyter-widgets/base",
          "model_name": "LayoutModel",
          "model_module_version": "1.2.0",
          "state": {
            "_model_module": "@jupyter-widgets/base",
            "_model_module_version": "1.2.0",
            "_model_name": "LayoutModel",
            "_view_count": null,
            "_view_module": "@jupyter-widgets/base",
            "_view_module_version": "1.2.0",
            "_view_name": "LayoutView",
            "align_content": null,
            "align_items": null,
            "align_self": null,
            "border": null,
            "bottom": null,
            "display": null,
            "flex": null,
            "flex_flow": null,
            "grid_area": null,
            "grid_auto_columns": null,
            "grid_auto_flow": null,
            "grid_auto_rows": null,
            "grid_column": null,
            "grid_gap": null,
            "grid_row": null,
            "grid_template_areas": null,
            "grid_template_columns": null,
            "grid_template_rows": null,
            "height": null,
            "justify_content": null,
            "justify_items": null,
            "left": null,
            "margin": null,
            "max_height": null,
            "max_width": null,
            "min_height": null,
            "min_width": null,
            "object_fit": null,
            "object_position": null,
            "order": null,
            "overflow": null,
            "overflow_x": null,
            "overflow_y": null,
            "padding": null,
            "right": null,
            "top": null,
            "visibility": null,
            "width": null
          }
        },
        "18f7844f6e8d4a7caf6dc4c388f448b6": {
          "model_module": "@jupyter-widgets/controls",
          "model_name": "DescriptionStyleModel",
          "model_module_version": "1.5.0",
          "state": {
            "_model_module": "@jupyter-widgets/controls",
            "_model_module_version": "1.5.0",
            "_model_name": "DescriptionStyleModel",
            "_view_count": null,
            "_view_module": "@jupyter-widgets/base",
            "_view_module_version": "1.2.0",
            "_view_name": "StyleView",
            "description_width": ""
          }
        },
        "b69a2b1c2c9d45b993a997b02a6c4285": {
          "model_module": "@jupyter-widgets/base",
          "model_name": "LayoutModel",
          "model_module_version": "1.2.0",
          "state": {
            "_model_module": "@jupyter-widgets/base",
            "_model_module_version": "1.2.0",
            "_model_name": "LayoutModel",
            "_view_count": null,
            "_view_module": "@jupyter-widgets/base",
            "_view_module_version": "1.2.0",
            "_view_name": "LayoutView",
            "align_content": null,
            "align_items": null,
            "align_self": null,
            "border": null,
            "bottom": null,
            "display": null,
            "flex": null,
            "flex_flow": null,
            "grid_area": null,
            "grid_auto_columns": null,
            "grid_auto_flow": null,
            "grid_auto_rows": null,
            "grid_column": null,
            "grid_gap": null,
            "grid_row": null,
            "grid_template_areas": null,
            "grid_template_columns": null,
            "grid_template_rows": null,
            "height": null,
            "justify_content": null,
            "justify_items": null,
            "left": null,
            "margin": null,
            "max_height": null,
            "max_width": null,
            "min_height": null,
            "min_width": null,
            "object_fit": null,
            "object_position": null,
            "order": null,
            "overflow": null,
            "overflow_x": null,
            "overflow_y": null,
            "padding": null,
            "right": null,
            "top": null,
            "visibility": null,
            "width": null
          }
        },
        "ce566a498ef44c3b85fa170e53335ed2": {
          "model_module": "@jupyter-widgets/controls",
          "model_name": "ProgressStyleModel",
          "model_module_version": "1.5.0",
          "state": {
            "_model_module": "@jupyter-widgets/controls",
            "_model_module_version": "1.5.0",
            "_model_name": "ProgressStyleModel",
            "_view_count": null,
            "_view_module": "@jupyter-widgets/base",
            "_view_module_version": "1.2.0",
            "_view_name": "StyleView",
            "bar_color": null,
            "description_width": ""
          }
        },
        "d648c1c589b844c68f853441038ff08c": {
          "model_module": "@jupyter-widgets/base",
          "model_name": "LayoutModel",
          "model_module_version": "1.2.0",
          "state": {
            "_model_module": "@jupyter-widgets/base",
            "_model_module_version": "1.2.0",
            "_model_name": "LayoutModel",
            "_view_count": null,
            "_view_module": "@jupyter-widgets/base",
            "_view_module_version": "1.2.0",
            "_view_name": "LayoutView",
            "align_content": null,
            "align_items": null,
            "align_self": null,
            "border": null,
            "bottom": null,
            "display": null,
            "flex": null,
            "flex_flow": null,
            "grid_area": null,
            "grid_auto_columns": null,
            "grid_auto_flow": null,
            "grid_auto_rows": null,
            "grid_column": null,
            "grid_gap": null,
            "grid_row": null,
            "grid_template_areas": null,
            "grid_template_columns": null,
            "grid_template_rows": null,
            "height": null,
            "justify_content": null,
            "justify_items": null,
            "left": null,
            "margin": null,
            "max_height": null,
            "max_width": null,
            "min_height": null,
            "min_width": null,
            "object_fit": null,
            "object_position": null,
            "order": null,
            "overflow": null,
            "overflow_x": null,
            "overflow_y": null,
            "padding": null,
            "right": null,
            "top": null,
            "visibility": null,
            "width": null
          }
        },
        "e746068e3df54ea8b2d247575b649ab9": {
          "model_module": "@jupyter-widgets/controls",
          "model_name": "DescriptionStyleModel",
          "model_module_version": "1.5.0",
          "state": {
            "_model_module": "@jupyter-widgets/controls",
            "_model_module_version": "1.5.0",
            "_model_name": "DescriptionStyleModel",
            "_view_count": null,
            "_view_module": "@jupyter-widgets/base",
            "_view_module_version": "1.2.0",
            "_view_name": "StyleView",
            "description_width": ""
          }
        },
        "4c162d36aa6a4d99b18e0486c098b728": {
          "model_module": "@jupyter-widgets/controls",
          "model_name": "HBoxModel",
          "model_module_version": "1.5.0",
          "state": {
            "_dom_classes": [],
            "_model_module": "@jupyter-widgets/controls",
            "_model_module_version": "1.5.0",
            "_model_name": "HBoxModel",
            "_view_count": null,
            "_view_module": "@jupyter-widgets/controls",
            "_view_module_version": "1.5.0",
            "_view_name": "HBoxView",
            "box_style": "",
            "children": [
              "IPY_MODEL_ff6effb94e8643ba97b420ab7b7a4a2d",
              "IPY_MODEL_ab34382f18104dc9b6a39193bd8e99ae",
              "IPY_MODEL_ffc9fd84469e49c39487f8a86bb6f84f"
            ],
            "layout": "IPY_MODEL_cdcd53c1ee28447c8be7c47ad9fed7b3"
          }
        },
        "ff6effb94e8643ba97b420ab7b7a4a2d": {
          "model_module": "@jupyter-widgets/controls",
          "model_name": "HTMLModel",
          "model_module_version": "1.5.0",
          "state": {
            "_dom_classes": [],
            "_model_module": "@jupyter-widgets/controls",
            "_model_module_version": "1.5.0",
            "_model_name": "HTMLModel",
            "_view_count": null,
            "_view_module": "@jupyter-widgets/controls",
            "_view_module_version": "1.5.0",
            "_view_name": "HTMLView",
            "description": "",
            "description_tooltip": null,
            "layout": "IPY_MODEL_842071354985418fb3b940c44e3071b8",
            "placeholder": "​",
            "style": "IPY_MODEL_d92f7bcc2ce34c70a08dc7de3f85692f",
            "value": "100%"
          }
        },
        "ab34382f18104dc9b6a39193bd8e99ae": {
          "model_module": "@jupyter-widgets/controls",
          "model_name": "FloatProgressModel",
          "model_module_version": "1.5.0",
          "state": {
            "_dom_classes": [],
            "_model_module": "@jupyter-widgets/controls",
            "_model_module_version": "1.5.0",
            "_model_name": "FloatProgressModel",
            "_view_count": null,
            "_view_module": "@jupyter-widgets/controls",
            "_view_module_version": "1.5.0",
            "_view_name": "ProgressView",
            "bar_style": "success",
            "description": "",
            "description_tooltip": null,
            "layout": "IPY_MODEL_1312aff6657f4be492fddcdef9080f19",
            "max": 50,
            "min": 0,
            "orientation": "horizontal",
            "style": "IPY_MODEL_4b79dc4e8bd64a56b11fd6da15fcfe40",
            "value": 50
          }
        },
        "ffc9fd84469e49c39487f8a86bb6f84f": {
          "model_module": "@jupyter-widgets/controls",
          "model_name": "HTMLModel",
          "model_module_version": "1.5.0",
          "state": {
            "_dom_classes": [],
            "_model_module": "@jupyter-widgets/controls",
            "_model_module_version": "1.5.0",
            "_model_name": "HTMLModel",
            "_view_count": null,
            "_view_module": "@jupyter-widgets/controls",
            "_view_module_version": "1.5.0",
            "_view_name": "HTMLView",
            "description": "",
            "description_tooltip": null,
            "layout": "IPY_MODEL_d8ec8c90a323458dbfa1282d31654874",
            "placeholder": "​",
            "style": "IPY_MODEL_67c827e71a804c9bb46c04caf4cf285b",
            "value": " 50/50 [00:12&lt;00:00,  3.79it/s]"
          }
        },
        "cdcd53c1ee28447c8be7c47ad9fed7b3": {
          "model_module": "@jupyter-widgets/base",
          "model_name": "LayoutModel",
          "model_module_version": "1.2.0",
          "state": {
            "_model_module": "@jupyter-widgets/base",
            "_model_module_version": "1.2.0",
            "_model_name": "LayoutModel",
            "_view_count": null,
            "_view_module": "@jupyter-widgets/base",
            "_view_module_version": "1.2.0",
            "_view_name": "LayoutView",
            "align_content": null,
            "align_items": null,
            "align_self": null,
            "border": null,
            "bottom": null,
            "display": null,
            "flex": null,
            "flex_flow": null,
            "grid_area": null,
            "grid_auto_columns": null,
            "grid_auto_flow": null,
            "grid_auto_rows": null,
            "grid_column": null,
            "grid_gap": null,
            "grid_row": null,
            "grid_template_areas": null,
            "grid_template_columns": null,
            "grid_template_rows": null,
            "height": null,
            "justify_content": null,
            "justify_items": null,
            "left": null,
            "margin": null,
            "max_height": null,
            "max_width": null,
            "min_height": null,
            "min_width": null,
            "object_fit": null,
            "object_position": null,
            "order": null,
            "overflow": null,
            "overflow_x": null,
            "overflow_y": null,
            "padding": null,
            "right": null,
            "top": null,
            "visibility": null,
            "width": null
          }
        },
        "842071354985418fb3b940c44e3071b8": {
          "model_module": "@jupyter-widgets/base",
          "model_name": "LayoutModel",
          "model_module_version": "1.2.0",
          "state": {
            "_model_module": "@jupyter-widgets/base",
            "_model_module_version": "1.2.0",
            "_model_name": "LayoutModel",
            "_view_count": null,
            "_view_module": "@jupyter-widgets/base",
            "_view_module_version": "1.2.0",
            "_view_name": "LayoutView",
            "align_content": null,
            "align_items": null,
            "align_self": null,
            "border": null,
            "bottom": null,
            "display": null,
            "flex": null,
            "flex_flow": null,
            "grid_area": null,
            "grid_auto_columns": null,
            "grid_auto_flow": null,
            "grid_auto_rows": null,
            "grid_column": null,
            "grid_gap": null,
            "grid_row": null,
            "grid_template_areas": null,
            "grid_template_columns": null,
            "grid_template_rows": null,
            "height": null,
            "justify_content": null,
            "justify_items": null,
            "left": null,
            "margin": null,
            "max_height": null,
            "max_width": null,
            "min_height": null,
            "min_width": null,
            "object_fit": null,
            "object_position": null,
            "order": null,
            "overflow": null,
            "overflow_x": null,
            "overflow_y": null,
            "padding": null,
            "right": null,
            "top": null,
            "visibility": null,
            "width": null
          }
        },
        "d92f7bcc2ce34c70a08dc7de3f85692f": {
          "model_module": "@jupyter-widgets/controls",
          "model_name": "DescriptionStyleModel",
          "model_module_version": "1.5.0",
          "state": {
            "_model_module": "@jupyter-widgets/controls",
            "_model_module_version": "1.5.0",
            "_model_name": "DescriptionStyleModel",
            "_view_count": null,
            "_view_module": "@jupyter-widgets/base",
            "_view_module_version": "1.2.0",
            "_view_name": "StyleView",
            "description_width": ""
          }
        },
        "1312aff6657f4be492fddcdef9080f19": {
          "model_module": "@jupyter-widgets/base",
          "model_name": "LayoutModel",
          "model_module_version": "1.2.0",
          "state": {
            "_model_module": "@jupyter-widgets/base",
            "_model_module_version": "1.2.0",
            "_model_name": "LayoutModel",
            "_view_count": null,
            "_view_module": "@jupyter-widgets/base",
            "_view_module_version": "1.2.0",
            "_view_name": "LayoutView",
            "align_content": null,
            "align_items": null,
            "align_self": null,
            "border": null,
            "bottom": null,
            "display": null,
            "flex": null,
            "flex_flow": null,
            "grid_area": null,
            "grid_auto_columns": null,
            "grid_auto_flow": null,
            "grid_auto_rows": null,
            "grid_column": null,
            "grid_gap": null,
            "grid_row": null,
            "grid_template_areas": null,
            "grid_template_columns": null,
            "grid_template_rows": null,
            "height": null,
            "justify_content": null,
            "justify_items": null,
            "left": null,
            "margin": null,
            "max_height": null,
            "max_width": null,
            "min_height": null,
            "min_width": null,
            "object_fit": null,
            "object_position": null,
            "order": null,
            "overflow": null,
            "overflow_x": null,
            "overflow_y": null,
            "padding": null,
            "right": null,
            "top": null,
            "visibility": null,
            "width": null
          }
        },
        "4b79dc4e8bd64a56b11fd6da15fcfe40": {
          "model_module": "@jupyter-widgets/controls",
          "model_name": "ProgressStyleModel",
          "model_module_version": "1.5.0",
          "state": {
            "_model_module": "@jupyter-widgets/controls",
            "_model_module_version": "1.5.0",
            "_model_name": "ProgressStyleModel",
            "_view_count": null,
            "_view_module": "@jupyter-widgets/base",
            "_view_module_version": "1.2.0",
            "_view_name": "StyleView",
            "bar_color": null,
            "description_width": ""
          }
        },
        "d8ec8c90a323458dbfa1282d31654874": {
          "model_module": "@jupyter-widgets/base",
          "model_name": "LayoutModel",
          "model_module_version": "1.2.0",
          "state": {
            "_model_module": "@jupyter-widgets/base",
            "_model_module_version": "1.2.0",
            "_model_name": "LayoutModel",
            "_view_count": null,
            "_view_module": "@jupyter-widgets/base",
            "_view_module_version": "1.2.0",
            "_view_name": "LayoutView",
            "align_content": null,
            "align_items": null,
            "align_self": null,
            "border": null,
            "bottom": null,
            "display": null,
            "flex": null,
            "flex_flow": null,
            "grid_area": null,
            "grid_auto_columns": null,
            "grid_auto_flow": null,
            "grid_auto_rows": null,
            "grid_column": null,
            "grid_gap": null,
            "grid_row": null,
            "grid_template_areas": null,
            "grid_template_columns": null,
            "grid_template_rows": null,
            "height": null,
            "justify_content": null,
            "justify_items": null,
            "left": null,
            "margin": null,
            "max_height": null,
            "max_width": null,
            "min_height": null,
            "min_width": null,
            "object_fit": null,
            "object_position": null,
            "order": null,
            "overflow": null,
            "overflow_x": null,
            "overflow_y": null,
            "padding": null,
            "right": null,
            "top": null,
            "visibility": null,
            "width": null
          }
        },
        "67c827e71a804c9bb46c04caf4cf285b": {
          "model_module": "@jupyter-widgets/controls",
          "model_name": "DescriptionStyleModel",
          "model_module_version": "1.5.0",
          "state": {
            "_model_module": "@jupyter-widgets/controls",
            "_model_module_version": "1.5.0",
            "_model_name": "DescriptionStyleModel",
            "_view_count": null,
            "_view_module": "@jupyter-widgets/base",
            "_view_module_version": "1.2.0",
            "_view_name": "StyleView",
            "description_width": ""
          }
        }
      }
    }
  },
  "cells": [
    {
      "cell_type": "code",
      "source": [
        "\n",
        "# Cell 2: Import libraries and setup\n",
        "import os\n",
        "import pandas as pd\n",
        "import torch\n",
        "from torch.utils.data import Dataset, DataLoader\n",
        "from torchvision import transforms\n",
        "from PIL import Image\n",
        "import numpy as np\n",
        "from diffusers import StableDiffusionPipeline, UNet2DConditionModel, DDPMScheduler\n",
        "from transformers import CLIPTextModel, CLIPTokenizer\n",
        "from accelerate import Accelerator\n",
        "from tqdm import tqdm\n",
        "from peft import LoraConfig, get_peft_model, TaskType\n",
        "import logging\n",
        "\n",
        "# Set up logging\n",
        "logging.basicConfig(level=logging.INFO)\n",
        "logger = logging.getLogger(__name__)\n",
        "\n",
        "# Check GPU\n",
        "print(f\"GPU available: {torch.cuda.is_available()}\")\n",
        "if torch.cuda.is_available():\n",
        "    print(f\"GPU: {torch.cuda.get_device_name(0)}\")\n",
        "\n"
      ],
      "metadata": {
        "colab": {
          "base_uri": "https://localhost:8080/"
        },
        "id": "8W2IwCFA5lgR",
        "outputId": "bdb3cec4-39c6-4728-e74f-12de7fc31f53"
      },
      "execution_count": null,
      "outputs": [
        {
          "output_type": "stream",
          "name": "stdout",
          "text": [
            "GPU available: True\n",
            "GPU: Tesla T4\n"
          ]
        }
      ]
    },
    {
      "cell_type": "code",
      "source": [
        "\n",
        "# Cell 3: Configuration (Modify these parameters as needed)\n",
        "class Config:\n",
        "    model_name = \"segmind/tiny-sd\"\n",
        "    images_dir = \"dataset/images\"  # Your images folder\n",
        "    captions_csv = \"dataset/captions.csv\"  # Your captions file\n",
        "    output_dir = \"./fine_tuned_tiny_sd\"\n",
        "    resolution = 512\n",
        "    batch_size = 2  # Reduced for Colab\n",
        "    num_epochs = 15  # More epochs for small dataset\n",
        "    learning_rate = 5e-5  # Lower learning rate\n",
        "    lora_rank = 16  # Higher rank for more capacity\n",
        "    batch_size = 1  # Smaller batches\n",
        "    lora_alpha = 32\n",
        "    gradient_accumulation_steps = 4\n",
        "    mixed_precision = \"no\"\n",
        "\n",
        "config = Config()"
      ],
      "metadata": {
        "id": "YzIkT7n25tj5"
      },
      "execution_count": null,
      "outputs": []
    },
    {
      "cell_type": "code",
      "source": [
        "# Cell 4: Dataset class\n",
        "class CustomDataset(Dataset):\n",
        "    def __init__(self, images_dir, captions_csv, tokenizer, size=512):\n",
        "        self.images_dir = images_dir\n",
        "        self.size = size\n",
        "        self.tokenizer = tokenizer\n",
        "\n",
        "        # Load captions\n",
        "        self.captions_df = pd.read_csv(captions_csv)\n",
        "        # Assuming CSV has columns: 'image_filename', 'caption'\n",
        "        self.image_files = self.captions_df['filename'].tolist()\n",
        "        self.captions = self.captions_df[' captions'].tolist()\n",
        "\n",
        "        print(f\"Loaded {len(self.image_files)} images\")\n",
        "\n",
        "        # Image preprocessing\n",
        "        self.image_transforms = transforms.Compose([\n",
        "            transforms.Resize((size, size)),\n",
        "            transforms.ToTensor(),\n",
        "            transforms.Normalize([0.5], [0.5])\n",
        "        ])\n",
        "\n",
        "    def __len__(self):\n",
        "        return len(self.image_files)\n",
        "\n",
        "    def __getitem__(self, idx):\n",
        "        # Load image\n",
        "        image_path = os.path.join(self.images_dir, self.image_files[idx])\n",
        "        try:\n",
        "            image = Image.open(image_path).convert('RGB')\n",
        "            image = self.image_transforms(image)\n",
        "        except Exception as e:\n",
        "            print(f\"Error loading image {image_path}: {e}\")\n",
        "            # Return a blank image if loading fails\n",
        "            image = torch.zeros(3, self.size, self.size)\n",
        "\n",
        "        # Tokenize caption\n",
        "        caption = str(self.captions[idx])\n",
        "        text_inputs = self.tokenizer(\n",
        "            caption,\n",
        "            padding=\"max_length\",\n",
        "            max_length=77,\n",
        "            truncation=True,\n",
        "            return_tensors=\"pt\"\n",
        "        )\n",
        "\n",
        "        return {\n",
        "            \"pixel_values\": image,\n",
        "            \"input_ids\": text_inputs.input_ids.squeeze(),\n",
        "            \"attention_mask\": text_inputs.attention_mask.squeeze()\n",
        "        }\n",
        "\n",
        "def collate_fn(batch):\n",
        "    pixel_values = torch.stack([item[\"pixel_values\"] for item in batch])\n",
        "    input_ids = torch.stack([item[\"input_ids\"] for item in batch])\n",
        "    attention_mask = torch.stack([item[\"attention_mask\"] for item in batch])\n",
        "\n",
        "    return {\n",
        "        \"pixel_values\": pixel_values,\n",
        "        \"input_ids\": input_ids,\n",
        "        \"attention_mask\": attention_mask\n",
        "    }\n"
      ],
      "metadata": {
        "id": "cC6-IjaL508g"
      },
      "execution_count": null,
      "outputs": []
    },
    {
      "cell_type": "code",
      "source": [
        "print(\"Loading model...\")\n",
        "pipe = StableDiffusionPipeline.from_pretrained(\n",
        "    config.model_name,\n",
        "    torch_dtype=torch.float32  # Changed to float32 to avoid dtype issues\n",
        ")\n",
        "\n",
        "# Extract components\n",
        "unet = pipe.unet.to(torch.float32)  # Ensure float32\n",
        "text_encoder = pipe.text_encoder.to(torch.float32)  # Ensure float32\n",
        "tokenizer = pipe.tokenizer\n",
        "vae = pipe.vae.to(torch.float32)  # Ensure float32\n",
        "noise_scheduler = DDPMScheduler.from_pretrained(config.model_name, subfolder=\"scheduler\")\n",
        "\n",
        "# Freeze VAE and text encoder\n",
        "vae.requires_grad_(False)\n",
        "text_encoder.requires_grad_(False)\n",
        "\n",
        "# Setup LoRA for UNet\n",
        "lora_config = LoraConfig(\n",
        "    r=config.lora_rank,\n",
        "    lora_alpha=config.lora_alpha,\n",
        "    target_modules=[\"to_k\", \"to_q\", \"to_v\", \"to_out.0\"],\n",
        "    lora_dropout=0.1,\n",
        "    # Remove task_type as it's not needed for diffusion models\n",
        ")\n",
        "\n",
        "unet = get_peft_model(unet, lora_config)\n",
        "unet.train()\n",
        "\n",
        "print(\"LoRA setup complete!\")"
      ],
      "metadata": {
        "colab": {
          "base_uri": "https://localhost:8080/",
          "height": 176,
          "referenced_widgets": [
            "75a269c2c2ec4ee2bae75c51695e8c58",
            "f342d1c5116e4a44820ad8220b65f24d",
            "d1698b2ae3aa4a52a552c235b1f7f6ff",
            "560234e8c40b4dd8b199cf37f7a09b20",
            "90a2a904d5604656825b2947fa08d081",
            "d0e6b1654f1e41d4ae99c0882bd50cf6",
            "00aa477894a64596ab3781e0ac222f3c",
            "ea2123a2364b4184bba2f3c5b3cd823a",
            "29b2503e45be4d64b97d8001f2e214b1",
            "e28ed6ed5cb84a308fad0f73f98ce3b0",
            "f008847bd82b4840b2653c5127a4721b"
          ]
        },
        "id": "dy6NXxv85_UX",
        "outputId": "f1b9af62-d773-481e-db3d-cb560faa12ea"
      },
      "execution_count": null,
      "outputs": [
        {
          "output_type": "stream",
          "name": "stdout",
          "text": [
            "Loading model...\n"
          ]
        },
        {
          "output_type": "display_data",
          "data": {
            "text/plain": [
              "Loading pipeline components...:   0%|          | 0/5 [00:00<?, ?it/s]"
            ],
            "application/vnd.jupyter.widget-view+json": {
              "version_major": 2,
              "version_minor": 0,
              "model_id": "75a269c2c2ec4ee2bae75c51695e8c58"
            }
          },
          "metadata": {}
        },
        {
          "output_type": "stream",
          "name": "stderr",
          "text": [
            "An error occurred while trying to fetch /root/.cache/huggingface/hub/models--segmind--tiny-sd/snapshots/cad0bd7495fa6c4bcca01b19a723dc91627fe84f/vae: Error no file named diffusion_pytorch_model.safetensors found in directory /root/.cache/huggingface/hub/models--segmind--tiny-sd/snapshots/cad0bd7495fa6c4bcca01b19a723dc91627fe84f/vae.\n",
            "Defaulting to unsafe serialization. Pass `allow_pickle=False` to raise an error instead.\n",
            "An error occurred while trying to fetch /root/.cache/huggingface/hub/models--segmind--tiny-sd/snapshots/cad0bd7495fa6c4bcca01b19a723dc91627fe84f/unet: Error no file named diffusion_pytorch_model.safetensors found in directory /root/.cache/huggingface/hub/models--segmind--tiny-sd/snapshots/cad0bd7495fa6c4bcca01b19a723dc91627fe84f/unet.\n",
            "Defaulting to unsafe serialization. Pass `allow_pickle=False` to raise an error instead.\n"
          ]
        },
        {
          "output_type": "stream",
          "name": "stdout",
          "text": [
            "LoRA setup complete!\n"
          ]
        }
      ]
    },
    {
      "cell_type": "code",
      "source": [
        "# Cell 6: Create dataset and dataloader\n",
        "print(\"Creating dataset...\")\n",
        "\n",
        "# Check if files exist\n",
        "if not os.path.exists(config.images_dir):\n",
        "    print(f\"Warning: {config.images_dir} directory not found!\")\n",
        "if not os.path.exists(config.captions_csv):\n",
        "    print(f\"Warning: {config.captions_csv} file not found!\")\n",
        "\n",
        "dataset = CustomDataset(\n",
        "    images_dir=config.images_dir,\n",
        "    captions_csv=config.captions_csv,\n",
        "    tokenizer=tokenizer,\n",
        "    size=config.resolution\n",
        ")\n",
        "\n",
        "dataloader = DataLoader(\n",
        "    dataset,\n",
        "    batch_size=config.batch_size,\n",
        "    shuffle=True,\n",
        "    collate_fn=collate_fn,\n",
        "    num_workers=2  # Reduced for Colab\n",
        ")\n",
        "\n",
        "print(f\"Dataset created with {len(dataset)} samples\")"
      ],
      "metadata": {
        "colab": {
          "base_uri": "https://localhost:8080/"
        },
        "id": "2e49bdNS6EZn",
        "outputId": "da176160-c3fe-4341-ad20-3552f761df64"
      },
      "execution_count": null,
      "outputs": [
        {
          "output_type": "stream",
          "name": "stdout",
          "text": [
            "Creating dataset...\n",
            "Loaded 10 images\n",
            "Dataset created with 10 samples\n"
          ]
        }
      ]
    },
    {
      "cell_type": "code",
      "source": [
        "# Cell 7: Setup training\n",
        "# Initialize accelerator\n",
        "accelerator = Accelerator(\n",
        "    gradient_accumulation_steps=config.gradient_accumulation_steps,\n",
        "    mixed_precision=config.mixed_precision\n",
        ")\n",
        "\n",
        "# Setup optimizer\n",
        "optimizer = torch.optim.AdamW(\n",
        "    unet.parameters(),\n",
        "    lr=config.learning_rate,\n",
        "    weight_decay=0.01\n",
        ")\n",
        "\n",
        "# Prepare everything with accelerator\n",
        "unet, optimizer, dataloader = accelerator.prepare(unet, optimizer, dataloader)\n",
        "\n",
        "# Move models to device\n",
        "vae = vae.to(accelerator.device)\n",
        "text_encoder = text_encoder.to(accelerator.device)\n",
        "\n",
        "print(\"Training setup complete!\")\n"
      ],
      "metadata": {
        "colab": {
          "base_uri": "https://localhost:8080/"
        },
        "id": "BIrHGQWw6IDY",
        "outputId": "0ee4869c-ce55-4d4a-fc82-9be2e523832b"
      },
      "execution_count": null,
      "outputs": [
        {
          "output_type": "stream",
          "name": "stdout",
          "text": [
            "Training setup complete!\n"
          ]
        }
      ]
    },
    {
      "cell_type": "code",
      "source": [
        "# Cell 8: Training loop\n",
        "print(\"Starting training...\")\n",
        "global_step = 0\n",
        "os.makedirs(config.output_dir, exist_ok=True)\n",
        "\n",
        "for epoch in range(config.num_epochs):\n",
        "    unet.train()\n",
        "    epoch_loss = 0\n",
        "\n",
        "    progress_bar = tqdm(dataloader, desc=f\"Epoch {epoch+1}/{config.num_epochs}\")\n",
        "\n",
        "    for batch_idx, batch in enumerate(progress_bar):\n",
        "        with accelerator.accumulate(unet):\n",
        "            # Convert images to latent space\n",
        "            with torch.no_grad():\n",
        "                latents = vae.encode(batch[\"pixel_values\"]).latent_dist.sample()\n",
        "                latents = latents * vae.config.scaling_factor\n",
        "\n",
        "            # Add noise to latents\n",
        "            noise = torch.randn_like(latents)\n",
        "            timesteps = torch.randint(\n",
        "                0, noise_scheduler.config.num_train_timesteps,\n",
        "                (latents.shape[0],), device=latents.device\n",
        "            ).long()\n",
        "\n",
        "            noisy_latents = noise_scheduler.add_noise(latents, noise, timesteps)\n",
        "\n",
        "            # Get text embeddings\n",
        "            with torch.no_grad():\n",
        "                encoder_hidden_states = text_encoder(batch[\"input_ids\"])[0]\n",
        "\n",
        "            # Predict noise\n",
        "            noise_pred = unet(\n",
        "                noisy_latents,\n",
        "                timesteps,\n",
        "                encoder_hidden_states\n",
        "            ).sample\n",
        "\n",
        "            # Calculate loss\n",
        "            loss = torch.nn.functional.mse_loss(noise_pred, noise)\n",
        "\n",
        "            # Backward pass\n",
        "            accelerator.backward(loss)\n",
        "            optimizer.step()\n",
        "            optimizer.zero_grad()\n",
        "\n",
        "            epoch_loss += loss.item()\n",
        "            global_step += 1\n",
        "\n",
        "            # Update progress bar\n",
        "            progress_bar.set_postfix({\n",
        "                'loss': f'{loss.item():.4f}',\n",
        "                'avg_loss': f'{epoch_loss/(batch_idx+1):.4f}'\n",
        "            })\n",
        "\n",
        "    avg_loss = epoch_loss/len(dataloader)\n",
        "    print(f\"Epoch {epoch+1} completed. Average loss: {avg_loss:.4f}\")\n",
        "\n",
        "    # Save checkpoint every epoch\n",
        "    if accelerator.is_main_process:\n",
        "        save_path = os.path.join(config.output_dir, f\"checkpoint-epoch-{epoch+1}\")\n",
        "        os.makedirs(save_path, exist_ok=True)\n",
        "\n",
        "        # Save LoRA weights\n",
        "        accelerator.unwrap_model(unet).save_pretrained(save_path)\n",
        "        print(f\"Checkpoint saved to {save_path}\")\n",
        "\n",
        "print(\"Training completed!\")"
      ],
      "metadata": {
        "colab": {
          "base_uri": "https://localhost:8080/"
        },
        "id": "dOXvTjC26K0v",
        "outputId": "563ecf80-ea7f-4a71-c9dc-9ada7424d820"
      },
      "execution_count": null,
      "outputs": [
        {
          "output_type": "stream",
          "name": "stdout",
          "text": [
            "Starting training...\n"
          ]
        },
        {
          "output_type": "stream",
          "name": "stderr",
          "text": [
            "Epoch 1/15: 100%|██████████| 10/10 [00:08<00:00,  1.24it/s, loss=0.1007, avg_loss=0.1775]\n"
          ]
        },
        {
          "output_type": "stream",
          "name": "stdout",
          "text": [
            "Epoch 1 completed. Average loss: 0.1775\n",
            "Checkpoint saved to ./fine_tuned_tiny_sd/checkpoint-epoch-1\n"
          ]
        },
        {
          "output_type": "stream",
          "name": "stderr",
          "text": [
            "Epoch 2/15: 100%|██████████| 10/10 [00:07<00:00,  1.34it/s, loss=0.1938, avg_loss=0.0825]\n"
          ]
        },
        {
          "output_type": "stream",
          "name": "stdout",
          "text": [
            "Epoch 2 completed. Average loss: 0.0825\n",
            "Checkpoint saved to ./fine_tuned_tiny_sd/checkpoint-epoch-2\n"
          ]
        },
        {
          "output_type": "stream",
          "name": "stderr",
          "text": [
            "Epoch 3/15: 100%|██████████| 10/10 [00:07<00:00,  1.32it/s, loss=0.0171, avg_loss=0.1387]\n"
          ]
        },
        {
          "output_type": "stream",
          "name": "stdout",
          "text": [
            "Epoch 3 completed. Average loss: 0.1387\n",
            "Checkpoint saved to ./fine_tuned_tiny_sd/checkpoint-epoch-3\n"
          ]
        },
        {
          "output_type": "stream",
          "name": "stderr",
          "text": [
            "Epoch 4/15: 100%|██████████| 10/10 [00:07<00:00,  1.30it/s, loss=0.0276, avg_loss=0.2149]\n"
          ]
        },
        {
          "output_type": "stream",
          "name": "stdout",
          "text": [
            "Epoch 4 completed. Average loss: 0.2149\n",
            "Checkpoint saved to ./fine_tuned_tiny_sd/checkpoint-epoch-4\n"
          ]
        },
        {
          "output_type": "stream",
          "name": "stderr",
          "text": [
            "Epoch 5/15: 100%|██████████| 10/10 [00:07<00:00,  1.32it/s, loss=0.1481, avg_loss=0.1016]\n"
          ]
        },
        {
          "output_type": "stream",
          "name": "stdout",
          "text": [
            "Epoch 5 completed. Average loss: 0.1016\n",
            "Checkpoint saved to ./fine_tuned_tiny_sd/checkpoint-epoch-5\n"
          ]
        },
        {
          "output_type": "stream",
          "name": "stderr",
          "text": [
            "Epoch 6/15: 100%|██████████| 10/10 [00:07<00:00,  1.34it/s, loss=0.0110, avg_loss=0.0521]\n"
          ]
        },
        {
          "output_type": "stream",
          "name": "stdout",
          "text": [
            "Epoch 6 completed. Average loss: 0.0521\n",
            "Checkpoint saved to ./fine_tuned_tiny_sd/checkpoint-epoch-6\n"
          ]
        },
        {
          "output_type": "stream",
          "name": "stderr",
          "text": [
            "Epoch 7/15: 100%|██████████| 10/10 [00:07<00:00,  1.30it/s, loss=0.0521, avg_loss=0.1434]\n"
          ]
        },
        {
          "output_type": "stream",
          "name": "stdout",
          "text": [
            "Epoch 7 completed. Average loss: 0.1434\n",
            "Checkpoint saved to ./fine_tuned_tiny_sd/checkpoint-epoch-7\n"
          ]
        },
        {
          "output_type": "stream",
          "name": "stderr",
          "text": [
            "Epoch 8/15: 100%|██████████| 10/10 [00:07<00:00,  1.35it/s, loss=0.0590, avg_loss=0.2042]\n"
          ]
        },
        {
          "output_type": "stream",
          "name": "stdout",
          "text": [
            "Epoch 8 completed. Average loss: 0.2042\n",
            "Checkpoint saved to ./fine_tuned_tiny_sd/checkpoint-epoch-8\n"
          ]
        },
        {
          "output_type": "stream",
          "name": "stderr",
          "text": [
            "Epoch 9/15: 100%|██████████| 10/10 [00:07<00:00,  1.36it/s, loss=0.0715, avg_loss=0.0774]\n"
          ]
        },
        {
          "output_type": "stream",
          "name": "stdout",
          "text": [
            "Epoch 9 completed. Average loss: 0.0774\n",
            "Checkpoint saved to ./fine_tuned_tiny_sd/checkpoint-epoch-9\n"
          ]
        },
        {
          "output_type": "stream",
          "name": "stderr",
          "text": [
            "Epoch 10/15: 100%|██████████| 10/10 [00:07<00:00,  1.36it/s, loss=0.0551, avg_loss=0.1902]\n"
          ]
        },
        {
          "output_type": "stream",
          "name": "stdout",
          "text": [
            "Epoch 10 completed. Average loss: 0.1902\n",
            "Checkpoint saved to ./fine_tuned_tiny_sd/checkpoint-epoch-10\n"
          ]
        },
        {
          "output_type": "stream",
          "name": "stderr",
          "text": [
            "Epoch 11/15: 100%|██████████| 10/10 [00:07<00:00,  1.34it/s, loss=0.0950, avg_loss=0.2548]\n"
          ]
        },
        {
          "output_type": "stream",
          "name": "stdout",
          "text": [
            "Epoch 11 completed. Average loss: 0.2548\n",
            "Checkpoint saved to ./fine_tuned_tiny_sd/checkpoint-epoch-11\n"
          ]
        },
        {
          "output_type": "stream",
          "name": "stderr",
          "text": [
            "Epoch 12/15: 100%|██████████| 10/10 [00:07<00:00,  1.33it/s, loss=0.1795, avg_loss=0.0474]\n"
          ]
        },
        {
          "output_type": "stream",
          "name": "stdout",
          "text": [
            "Epoch 12 completed. Average loss: 0.0474\n",
            "Checkpoint saved to ./fine_tuned_tiny_sd/checkpoint-epoch-12\n"
          ]
        },
        {
          "output_type": "stream",
          "name": "stderr",
          "text": [
            "Epoch 13/15: 100%|██████████| 10/10 [00:07<00:00,  1.34it/s, loss=0.0092, avg_loss=0.0657]\n"
          ]
        },
        {
          "output_type": "stream",
          "name": "stdout",
          "text": [
            "Epoch 13 completed. Average loss: 0.0657\n",
            "Checkpoint saved to ./fine_tuned_tiny_sd/checkpoint-epoch-13\n"
          ]
        },
        {
          "output_type": "stream",
          "name": "stderr",
          "text": [
            "Epoch 14/15: 100%|██████████| 10/10 [00:07<00:00,  1.36it/s, loss=0.2329, avg_loss=0.1519]\n"
          ]
        },
        {
          "output_type": "stream",
          "name": "stdout",
          "text": [
            "Epoch 14 completed. Average loss: 0.1519\n",
            "Checkpoint saved to ./fine_tuned_tiny_sd/checkpoint-epoch-14\n"
          ]
        },
        {
          "output_type": "stream",
          "name": "stderr",
          "text": [
            "Epoch 15/15: 100%|██████████| 10/10 [00:07<00:00,  1.34it/s, loss=0.0714, avg_loss=0.2294]"
          ]
        },
        {
          "output_type": "stream",
          "name": "stdout",
          "text": [
            "Epoch 15 completed. Average loss: 0.2294\n",
            "Checkpoint saved to ./fine_tuned_tiny_sd/checkpoint-epoch-15\n",
            "Training completed!\n"
          ]
        },
        {
          "output_type": "stream",
          "name": "stderr",
          "text": [
            "\n"
          ]
        }
      ]
    },
    {
      "cell_type": "code",
      "source": [
        "#Cell 9: Save final model\n",
        "print(\"Saving final model...\")\n",
        "if accelerator.is_main_process:\n",
        "    final_save_path = os.path.join(config.output_dir, \"final_model\")\n",
        "    os.makedirs(final_save_path, exist_ok=True)\n",
        "\n",
        "    # Save LoRA weights\n",
        "    accelerator.unwrap_model(unet).save_pretrained(final_save_path)\n",
        "\n",
        "    # Merge LoRA weights and save full pipeline\n",
        "    print(\"Merging LoRA weights...\")\n",
        "    unet_merged = accelerator.unwrap_model(unet).merge_and_unload()\n",
        "    pipe.unet = unet_merged.to(torch.float16)\n",
        "    pipe.save_pretrained(final_save_path)\n",
        "\n",
        "    print(f\"Final model saved to {final_save_path}\")"
      ],
      "metadata": {
        "id": "pQB8NIIu6PEA",
        "colab": {
          "base_uri": "https://localhost:8080/"
        },
        "outputId": "7688b80c-61d6-452f-cfa7-616d25a5dbd5"
      },
      "execution_count": null,
      "outputs": [
        {
          "output_type": "stream",
          "name": "stdout",
          "text": [
            "Saving final model...\n",
            "Merging LoRA weights...\n",
            "Final model saved to ./fine_tuned_tiny_sd/final_model\n"
          ]
        }
      ]
    },
    {
      "cell_type": "code",
      "source": [
        "# Cell 10: Test the fine-tuned model\n",
        "def test_model(prompt=\"a beautiful landscape\", save_name=\"test_output.png\"):\n",
        "    \"\"\"Test the fine-tuned model\"\"\"\n",
        "    print(f\"Generating image for prompt: '{prompt}'\")\n",
        "\n",
        "    # Load the fine-tuned model\n",
        "    test_pipe = StableDiffusionPipeline.from_pretrained(\n",
        "        os.path.join(config.output_dir, \"final_model\"),\n",
        "        torch_dtype=torch.float32\n",
        "    )\n",
        "    test_pipe = test_pipe.to(\"cuda\" if torch.cuda.is_available() else \"cpu\")\n",
        "\n",
        "    # Generate image\n",
        "    with torch.no_grad():\n",
        "        image = test_pipe(\n",
        "            prompt,\n",
        "            num_inference_steps=50,\n",
        "            guidance_scale=7.5,\n",
        "            height=512,\n",
        "            width=512\n",
        "        ).images[0]\n",
        "\n",
        "    image.save(save_name)\n",
        "    print(f\"Test image saved as {save_name}\")\n",
        "    return image\n",
        "\n",
        "# Test the model (run this after training completes)\n",
        "test_image = test_model(\"Turab Hussain Usmani\")"
      ],
      "metadata": {
        "id": "jX_gINfO6QrY",
        "colab": {
          "base_uri": "https://localhost:8080/",
          "height": 117,
          "referenced_widgets": [
            "1fbb77ce677a4805976c541036bd60e9",
            "db42b6174dd24715b3f82775d75885f6",
            "7336988b513047df93b61ab164f1e43e",
            "c53eccc198794c1b8ed66d439b871832",
            "305c06b58a3641a28d124549a87771f5",
            "2ee1a179fb7f47edabf9bbcbc3839040",
            "18f7844f6e8d4a7caf6dc4c388f448b6",
            "b69a2b1c2c9d45b993a997b02a6c4285",
            "ce566a498ef44c3b85fa170e53335ed2",
            "d648c1c589b844c68f853441038ff08c",
            "e746068e3df54ea8b2d247575b649ab9",
            "4c162d36aa6a4d99b18e0486c098b728",
            "ff6effb94e8643ba97b420ab7b7a4a2d",
            "ab34382f18104dc9b6a39193bd8e99ae",
            "ffc9fd84469e49c39487f8a86bb6f84f",
            "cdcd53c1ee28447c8be7c47ad9fed7b3",
            "842071354985418fb3b940c44e3071b8",
            "d92f7bcc2ce34c70a08dc7de3f85692f",
            "1312aff6657f4be492fddcdef9080f19",
            "4b79dc4e8bd64a56b11fd6da15fcfe40",
            "d8ec8c90a323458dbfa1282d31654874",
            "67c827e71a804c9bb46c04caf4cf285b"
          ]
        },
        "outputId": "5fc45e58-787b-4c95-931e-423471eb463e"
      },
      "execution_count": null,
      "outputs": [
        {
          "output_type": "stream",
          "name": "stdout",
          "text": [
            "Generating image for prompt: 'Turab Hussain Usmani'\n"
          ]
        },
        {
          "output_type": "display_data",
          "data": {
            "text/plain": [
              "Loading pipeline components...:   0%|          | 0/5 [00:00<?, ?it/s]"
            ],
            "application/vnd.jupyter.widget-view+json": {
              "version_major": 2,
              "version_minor": 0,
              "model_id": "1fbb77ce677a4805976c541036bd60e9"
            }
          },
          "metadata": {}
        },
        {
          "output_type": "display_data",
          "data": {
            "text/plain": [
              "  0%|          | 0/50 [00:00<?, ?it/s]"
            ],
            "application/vnd.jupyter.widget-view+json": {
              "version_major": 2,
              "version_minor": 0,
              "model_id": "4c162d36aa6a4d99b18e0486c098b728"
            }
          },
          "metadata": {}
        },
        {
          "output_type": "stream",
          "name": "stdout",
          "text": [
            "Test image saved as test_output.png\n"
          ]
        }
      ]
    },
    {
      "cell_type": "code",
      "source": [
        "\n",
        "# Cell 11: Download the trained model (Optional)\n",
        "# Uncomment and run this to download your trained model\n",
        "\"\"\"\n",
        "from google.colab import files\n",
        "import shutil\n",
        "\n",
        "# Create a zip of the final model\n",
        "shutil.make_archive('fine_tuned_tiny_sd', 'zip', config.output_dir)\n",
        "files.download('fine_tuned_tiny_sd.zip')\n",
        "\"\"\"\n",
        "\n",
        "print(\"Setup complete! Run the cells in order to fine-tune your model.\")"
      ],
      "metadata": {
        "id": "eE93IQZo6Ujf"
      },
      "execution_count": null,
      "outputs": []
    }
  ]
}